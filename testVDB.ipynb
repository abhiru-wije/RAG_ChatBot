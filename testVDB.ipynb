{
 "cells": [
  {
   "cell_type": "code",
   "execution_count": 1,
   "metadata": {},
   "outputs": [],
   "source": [
    "import chromadb\n",
    "CHROMA_HOST = '13.234.115.62'\n",
    "CHROMA_PORT = 8000\n",
    "\n",
    "chroma_client = chromadb.HttpClient(host=CHROMA_HOST, port=CHROMA_PORT)\n",
    "collection_name = \"whatsapp\"\n",
    "collection = chroma_client.get_or_create_collection(name=collection_name)"
   ]
  },
  {
   "cell_type": "code",
   "execution_count": 2,
   "metadata": {},
   "outputs": [
    {
     "name": "stdout",
     "output_type": "stream",
     "text": [
      "File Name: Zappy-AI.pdf\n",
      "Content:  \n",
      " \n",
      "Business Information \n",
      " \n",
      "Business Name: Zappy \n",
      "Type/Industry: SaaS, IT services \n",
      "Website: www.heyzappy.com \n",
      "Email:info@heyzappy.com \n",
      "Phone Number: +94768708702 \n",
      "WhatsApp Number: +94768708702 \n",
      "Location:Sri Lanka office - Colombo two \n",
      "Malaysia Office - Bangsar, Kuala Lumpur \n",
      "Brief Description: Zappy, a venture backed homegrown business communication platform \n",
      "based in Malaysia and Sri Lanka that offers AI salesperson for your business. Zappy is the \n",
      "Salesperson you’ve been looking for, Reply ac...\n",
      "\n"
     ]
    }
   ],
   "source": [
    "import os\n",
    "import fitz\n",
    "\n",
    "def read_pdf_files_from_folder(folder_path):\n",
    "    file_data = []\n",
    "\n",
    "    if not os.path.exists(folder_path):\n",
    "        print(f\"Error: The folder '{folder_path}' does not exist.\")\n",
    "        return file_data\n",
    "\n",
    "    pdf_files = [f for f in os.listdir(folder_path) if f.endswith(\".pdf\")]\n",
    "    if not pdf_files:\n",
    "        print(f\"No PDF files found in {folder_path}.\")\n",
    "        return file_data\n",
    "\n",
    "    for file_name in pdf_files:\n",
    "        try:\n",
    "            doc = fitz.open(os.path.join(folder_path, file_name))\n",
    "            text = \"\"\n",
    "            for page in doc:\n",
    "                text += page.get_text()\n",
    "            doc.close()\n",
    "            file_data.append({\"file_name\": file_name, \"content\": text})\n",
    "        except Exception as e:\n",
    "            print(f\"Failed to read {file_name}: {e}\")\n",
    "\n",
    "    if not file_data:\n",
    "        print(\"PDF files found, but none could be read.\")\n",
    "    return file_data\n",
    "\n",
    "folder_path = \"documents\"  # Ensure this is the correct path to your documents\n",
    "file_data = read_pdf_files_from_folder(folder_path)\n",
    "\n",
    "if file_data:\n",
    "    # Print the extracted data\n",
    "    for data in file_data:\n",
    "        print(f\"File Name: {data['file_name']}\")\n",
    "        print(f\"Content: {data['content'][:500]}...\\n\")\n",
    "else:\n",
    "    print(\"No data extracted from PDF files.\")\n"
   ]
  },
  {
   "cell_type": "code",
   "execution_count": 3,
   "metadata": {},
   "outputs": [
    {
     "name": "stdout",
     "output_type": "stream",
     "text": [
      "Number of pages:  3\n"
     ]
    }
   ],
   "source": [
    "import fitz  # Ensure this is PyMuPDF\n",
    "\n",
    "try:\n",
    "    doc = fitz.open('documents/Zappy-AI.pdf')\n",
    "    print(\"Number of pages: \", len(doc))\n",
    "    doc.close()\n",
    "except Exception as e:\n",
    "    print(\"An error occurred:\", e)\n"
   ]
  },
  {
   "cell_type": "code",
   "execution_count": 4,
   "metadata": {},
   "outputs": [
    {
     "name": "stderr",
     "output_type": "stream",
     "text": [
      "c:\\Users\\acer\\miniconda3\\envs\\zappy\\lib\\site-packages\\tqdm\\auto.py:21: TqdmWarning: IProgress not found. Please update jupyter and ipywidgets. See https://ipywidgets.readthedocs.io/en/stable/user_install.html\n",
      "  from .autonotebook import tqdm as notebook_tqdm\n"
     ]
    }
   ],
   "source": [
    "from sentence_transformers import SentenceTransformer\n",
    "model = SentenceTransformer('all-MiniLM-L6-v2')"
   ]
  },
  {
   "cell_type": "code",
   "execution_count": 5,
   "metadata": {},
   "outputs": [],
   "source": [
    "documents = []\n",
    "embeddings = []\n",
    "metadatas = []\n",
    "ids = []\n",
    "for index,data in enumerate(file_data):\n",
    "  documents.append(data['content'])\n",
    "  embeding = model.encode(data['content']).tolist()\n",
    "  embeddings.append(embeding)\n",
    "  metadatas.append({'source':data['file_name']})\n",
    "  ids.append(str(index+1))"
   ]
  },
  {
   "cell_type": "code",
   "execution_count": 6,
   "metadata": {},
   "outputs": [],
   "source": [
    "bot_emb = chroma_client.get_collection(\"whatsapp\")\n",
    "bot_emb.add(\n",
    "    documents=documents,\n",
    "    embeddings=embeddings,\n",
    "    metadatas=metadatas,\n",
    "    ids=ids\n",
    ")"
   ]
  },
  {
   "cell_type": "code",
   "execution_count": 7,
   "metadata": {},
   "outputs": [
    {
     "data": {
      "text/plain": [
       "{'ids': [['1']],\n",
       " 'distances': [[9.07656585126657]],\n",
       " 'embeddings': None,\n",
       " 'metadatas': [[{'source': 'Zappy-AI.pdf'}]],\n",
       " 'documents': [[\" \\n \\nBusiness Information \\n \\nBusiness Name: Zappy \\nType/Industry: SaaS, IT services \\nWebsite: www.heyzappy.com \\nEmail:info@heyzappy.com \\nPhone Number: +94768708702 \\nWhatsApp Number: +94768708702 \\nLocation:Sri Lanka office - Colombo two \\nMalaysia Office - Bangsar, Kuala Lumpur \\nBrief Description: Zappy, a venture backed homegrown business communication platform \\nbased in Malaysia and Sri Lanka that offers AI salesperson for your business. Zappy is the \\nSalesperson you’ve been looking for, Reply across socials, send emails, collect feedback, make \\nphone calls and schedule meetings, even while you’re asleep ;) \\n \\n \\nChatbot Configuration \\n \\nDesired Chatbot Name and Identity. Act as Zappy, the AI agent replying to customers \\nwho have inquired about Zappy on social media.  \\n \\nDesired Chatbot tone: professional and friendly, a natural, day-to-day conversational style \\nthat makes the clients feel at ease and well-assisted. \\n \\n \\nLanguage(s) the Chatbot must Support: English \\n \\n \\nFrequently Asked Questions (FAQs):  \\n \\nWrite a list of common questions asked by customers along with their corresponding \\nanswers. This will help the chatbot provide accurate responses. \\nFAQ1 -Are you trying to replace human salespeople? \\nNo, we are helping your sales team focus on what matters the most, networking while Zappy \\ndoes the boring monotonous work. \\n \\nFAQ 2- How much does this cost? \\nThe pricing structure is a simple pay for what I do structure, you only need to pay for the tasks \\ndone. \\n \\nMy pricing packages start from Rupees 16,750 per month. To get a custom pricing let me know \\nyour requirements. \\n \\nFAQ 3- Who is behind this Zappy AI team? \\nWe are a venture backed startup founded and developed by a bunch of young Sri Lankan \\nentrepreneurs. With offices located in Sri Lanka and Malaysia. \\n \\nFAQ 4-Is my data safe? \\nCustomer data and privacy is one of the biggest concerns, we use ISO/ECshs certified servers \\nwith the option to opt in for HIPPA thingy on call ai \\n \\nFAQ 5: Can I get a custom pricing for my requirement? Yes. It’s best if you can book a call with \\nour team via Book a call so that we can understand your requirements better. However do note \\nthat only a select few companies will get access to Zappy and others will be put into a waitlist. \\n \\n \\n \\nFAQ 3: Can I schedule a demo or meeting with the team? - Yes, kindly book a time via Book a \\ncall  \\n... \\n \\nProducts and Services:  \\n \\n-Product Catalog link:  \\n \\n-Provide detailed information about your products or services, including key features, \\npricing, and any other relevant details. This will help the chatbot provide accurate \\ninformation. If you have a long list of products or services (more than 5), simply state the \\ngeneral categories and include a link to see your catalog: \\n \\nReply across social media: \\nReply to comments, mentions, DMs and WhatsApp messages across WhatsApp, Instagram, \\nFacebook messenger \\n \\nEmail & SMS conversations: \\nNot just one way spam, but a real conversation,  \\n \\nPhone calls \\nCall your prospects and book appointments. all while you’re teams still on vacation  -  \\n \\nDaily reporting \\na daily update on what’s done and how things went and analytics \\n \\n \\nOther key features \\n● Trained to fit your company  \\n● Working 24/7/365 \\n● Only pay the work done  \\n● Multilingual  \\n \\n \\nPurchase process:  \\n \\n-Provide detailed information about your purchase or sign-up process. This might \\ninclude: Payment methods, shipping information, checkout links and any other relevant \\ndetails. \\nCurrently we have an early bird offer where we select a few companies and provide them with \\nZappy AI services. To qualify for the offer we schedule a demo with the company to understand \\ntheir customer base, how they engage with their customers and based on that we will give the \\ncustom pricing. Kindly book a call via this link Book a call  \\n \\n \\nEscalation Process:  \\n \\nSpecify the steps or criteria for when the chatbot should escalate a customer's inquiry or issue \\nto a human representative. \\nTo talk to a human representative kindly contact us via +94768708702 or email via \\ninfo@heyzappy.com,  \\n \\n \\n… \\n \\nAdditional details and instructions: \\nTo get access for our early bird offer book a call with us via \\nhttps://meetings.hubspot.com/shay-anthony  \\n \\n\"]],\n",
       " 'uris': None,\n",
       " 'data': None}"
      ]
     },
     "execution_count": 7,
     "metadata": {},
     "output_type": "execute_result"
    }
   ],
   "source": [
    "query = \"What is zappyAI\"\n",
    "input_em = model.encode(query).tolist()\n",
    "\n",
    "results = bot_emb.query(\n",
    "    query_embeddings=[input_em],\n",
    "    n_results=1\n",
    ")\n",
    "results"
   ]
  },
  {
   "cell_type": "code",
   "execution_count": 8,
   "metadata": {},
   "outputs": [
    {
     "data": {
      "text/plain": [
       "{'ids': [['1']],\n",
       " 'distances': [[8.604428070179036]],\n",
       " 'embeddings': None,\n",
       " 'metadatas': [[{'source': 'Zappy-AI.pdf'}]],\n",
       " 'documents': [[\" \\n \\nBusiness Information \\n \\nBusiness Name: Zappy \\nType/Industry: SaaS, IT services \\nWebsite: www.heyzappy.com \\nEmail:info@heyzappy.com \\nPhone Number: +94768708702 \\nWhatsApp Number: +94768708702 \\nLocation:Sri Lanka office - Colombo two \\nMalaysia Office - Bangsar, Kuala Lumpur \\nBrief Description: Zappy, a venture backed homegrown business communication platform \\nbased in Malaysia and Sri Lanka that offers AI salesperson for your business. Zappy is the \\nSalesperson you’ve been looking for, Reply across socials, send emails, collect feedback, make \\nphone calls and schedule meetings, even while you’re asleep ;) \\n \\n \\nChatbot Configuration \\n \\nDesired Chatbot Name and Identity. Act as Zappy, the AI agent replying to customers \\nwho have inquired about Zappy on social media.  \\n \\nDesired Chatbot tone: professional and friendly, a natural, day-to-day conversational style \\nthat makes the clients feel at ease and well-assisted. \\n \\n \\nLanguage(s) the Chatbot must Support: English \\n \\n \\nFrequently Asked Questions (FAQs):  \\n \\nWrite a list of common questions asked by customers along with their corresponding \\nanswers. This will help the chatbot provide accurate responses. \\nFAQ1 -Are you trying to replace human salespeople? \\nNo, we are helping your sales team focus on what matters the most, networking while Zappy \\ndoes the boring monotonous work. \\n \\nFAQ 2- How much does this cost? \\nThe pricing structure is a simple pay for what I do structure, you only need to pay for the tasks \\ndone. \\n \\nMy pricing packages start from Rupees 16,750 per month. To get a custom pricing let me know \\nyour requirements. \\n \\nFAQ 3- Who is behind this Zappy AI team? \\nWe are a venture backed startup founded and developed by a bunch of young Sri Lankan \\nentrepreneurs. With offices located in Sri Lanka and Malaysia. \\n \\nFAQ 4-Is my data safe? \\nCustomer data and privacy is one of the biggest concerns, we use ISO/ECshs certified servers \\nwith the option to opt in for HIPPA thingy on call ai \\n \\nFAQ 5: Can I get a custom pricing for my requirement? Yes. It’s best if you can book a call with \\nour team via Book a call so that we can understand your requirements better. However do note \\nthat only a select few companies will get access to Zappy and others will be put into a waitlist. \\n \\n \\n \\nFAQ 3: Can I schedule a demo or meeting with the team? - Yes, kindly book a time via Book a \\ncall  \\n... \\n \\nProducts and Services:  \\n \\n-Product Catalog link:  \\n \\n-Provide detailed information about your products or services, including key features, \\npricing, and any other relevant details. This will help the chatbot provide accurate \\ninformation. If you have a long list of products or services (more than 5), simply state the \\ngeneral categories and include a link to see your catalog: \\n \\nReply across social media: \\nReply to comments, mentions, DMs and WhatsApp messages across WhatsApp, Instagram, \\nFacebook messenger \\n \\nEmail & SMS conversations: \\nNot just one way spam, but a real conversation,  \\n \\nPhone calls \\nCall your prospects and book appointments. all while you’re teams still on vacation  -  \\n \\nDaily reporting \\na daily update on what’s done and how things went and analytics \\n \\n \\nOther key features \\n● Trained to fit your company  \\n● Working 24/7/365 \\n● Only pay the work done  \\n● Multilingual  \\n \\n \\nPurchase process:  \\n \\n-Provide detailed information about your purchase or sign-up process. This might \\ninclude: Payment methods, shipping information, checkout links and any other relevant \\ndetails. \\nCurrently we have an early bird offer where we select a few companies and provide them with \\nZappy AI services. To qualify for the offer we schedule a demo with the company to understand \\ntheir customer base, how they engage with their customers and based on that we will give the \\ncustom pricing. Kindly book a call via this link Book a call  \\n \\n \\nEscalation Process:  \\n \\nSpecify the steps or criteria for when the chatbot should escalate a customer's inquiry or issue \\nto a human representative. \\nTo talk to a human representative kindly contact us via +94768708702 or email via \\ninfo@heyzappy.com,  \\n \\n \\n… \\n \\nAdditional details and instructions: \\nTo get access for our early bird offer book a call with us via \\nhttps://meetings.hubspot.com/shay-anthony  \\n \\n\"]],\n",
       " 'uris': None,\n",
       " 'data': None}"
      ]
     },
     "execution_count": 8,
     "metadata": {},
     "output_type": "execute_result"
    }
   ],
   "source": [
    "query = \"Can I know contact details of ZappyAI\"\n",
    "input_em = model.encode(query).tolist()\n",
    "\n",
    "results = bot_emb.query(\n",
    "    query_embeddings=[input_em],\n",
    "    n_results=2,\n",
    ")\n",
    "results"
   ]
  },
  {
   "cell_type": "code",
   "execution_count": 9,
   "metadata": {},
   "outputs": [
    {
     "data": {
      "text/plain": [
       "[Collection(name=whatsapp), Collection(name=bot)]"
      ]
     },
     "execution_count": 9,
     "metadata": {},
     "output_type": "execute_result"
    }
   ],
   "source": [
    "chroma_client.list_collections()"
   ]
  },
  {
   "cell_type": "code",
   "execution_count": 10,
   "metadata": {},
   "outputs": [
    {
     "ename": "Exception",
     "evalue": "{\"error\":\"ValueError('Collection whatsappnew does not exist.')\"}",
     "output_type": "error",
     "traceback": [
      "\u001b[1;31m---------------------------------------------------------------------------\u001b[0m",
      "\u001b[1;31mHTTPError\u001b[0m                                 Traceback (most recent call last)",
      "File \u001b[1;32mc:\\Users\\acer\\miniconda3\\envs\\zappy\\lib\\site-packages\\chromadb\\api\\fastapi.py:650\u001b[0m, in \u001b[0;36mraise_chroma_error\u001b[1;34m(resp)\u001b[0m\n\u001b[0;32m    649\u001b[0m \u001b[38;5;28;01mtry\u001b[39;00m:\n\u001b[1;32m--> 650\u001b[0m     \u001b[43mresp\u001b[49m\u001b[38;5;241;43m.\u001b[39;49m\u001b[43mraise_for_status\u001b[49m\u001b[43m(\u001b[49m\u001b[43m)\u001b[49m\n\u001b[0;32m    651\u001b[0m \u001b[38;5;28;01mexcept\u001b[39;00m requests\u001b[38;5;241m.\u001b[39mHTTPError:\n",
      "File \u001b[1;32mc:\\Users\\acer\\miniconda3\\envs\\zappy\\lib\\site-packages\\requests\\models.py:1021\u001b[0m, in \u001b[0;36mResponse.raise_for_status\u001b[1;34m(self)\u001b[0m\n\u001b[0;32m   1020\u001b[0m \u001b[38;5;28;01mif\u001b[39;00m http_error_msg:\n\u001b[1;32m-> 1021\u001b[0m     \u001b[38;5;28;01mraise\u001b[39;00m HTTPError(http_error_msg, response\u001b[38;5;241m=\u001b[39m\u001b[38;5;28mself\u001b[39m)\n",
      "\u001b[1;31mHTTPError\u001b[0m: 500 Server Error: Internal Server Error for url: http://13.234.115.62:8000/api/v1/collections/whatsappnew?tenant=default_tenant&database=default_database",
      "\nDuring handling of the above exception, another exception occurred:\n",
      "\u001b[1;31mException\u001b[0m                                 Traceback (most recent call last)",
      "Cell \u001b[1;32mIn[10], line 1\u001b[0m\n\u001b[1;32m----> 1\u001b[0m \u001b[43mchroma_client\u001b[49m\u001b[38;5;241;43m.\u001b[39;49m\u001b[43mdelete_collection\u001b[49m\u001b[43m(\u001b[49m\u001b[38;5;124;43m\"\u001b[39;49m\u001b[38;5;124;43mwhatsappnew\u001b[39;49m\u001b[38;5;124;43m\"\u001b[39;49m\u001b[43m)\u001b[49m\n",
      "File \u001b[1;32mc:\\Users\\acer\\miniconda3\\envs\\zappy\\lib\\site-packages\\chromadb\\api\\client.py:264\u001b[0m, in \u001b[0;36mClient.delete_collection\u001b[1;34m(self, name)\u001b[0m\n\u001b[0;32m    259\u001b[0m \u001b[38;5;129m@override\u001b[39m\n\u001b[0;32m    260\u001b[0m \u001b[38;5;28;01mdef\u001b[39;00m \u001b[38;5;21mdelete_collection\u001b[39m(\n\u001b[0;32m    261\u001b[0m     \u001b[38;5;28mself\u001b[39m,\n\u001b[0;32m    262\u001b[0m     name: \u001b[38;5;28mstr\u001b[39m,\n\u001b[0;32m    263\u001b[0m ) \u001b[38;5;241m-\u001b[39m\u001b[38;5;241m>\u001b[39m \u001b[38;5;28;01mNone\u001b[39;00m:\n\u001b[1;32m--> 264\u001b[0m     \u001b[38;5;28;01mreturn\u001b[39;00m \u001b[38;5;28;43mself\u001b[39;49m\u001b[38;5;241;43m.\u001b[39;49m\u001b[43m_server\u001b[49m\u001b[38;5;241;43m.\u001b[39;49m\u001b[43mdelete_collection\u001b[49m\u001b[43m(\u001b[49m\n\u001b[0;32m    265\u001b[0m \u001b[43m        \u001b[49m\u001b[43mname\u001b[49m\u001b[38;5;241;43m=\u001b[39;49m\u001b[43mname\u001b[49m\u001b[43m,\u001b[49m\n\u001b[0;32m    266\u001b[0m \u001b[43m        \u001b[49m\u001b[43mtenant\u001b[49m\u001b[38;5;241;43m=\u001b[39;49m\u001b[38;5;28;43mself\u001b[39;49m\u001b[38;5;241;43m.\u001b[39;49m\u001b[43mtenant\u001b[49m\u001b[43m,\u001b[49m\n\u001b[0;32m    267\u001b[0m \u001b[43m        \u001b[49m\u001b[43mdatabase\u001b[49m\u001b[38;5;241;43m=\u001b[39;49m\u001b[38;5;28;43mself\u001b[39;49m\u001b[38;5;241;43m.\u001b[39;49m\u001b[43mdatabase\u001b[49m\u001b[43m,\u001b[49m\n\u001b[0;32m    268\u001b[0m \u001b[43m    \u001b[49m\u001b[43m)\u001b[49m\n",
      "File \u001b[1;32mc:\\Users\\acer\\miniconda3\\envs\\zappy\\lib\\site-packages\\chromadb\\telemetry\\opentelemetry\\__init__.py:127\u001b[0m, in \u001b[0;36mtrace_method.<locals>.decorator.<locals>.wrapper\u001b[1;34m(*args, **kwargs)\u001b[0m\n\u001b[0;32m    125\u001b[0m \u001b[38;5;28;01mglobal\u001b[39;00m tracer, granularity\n\u001b[0;32m    126\u001b[0m \u001b[38;5;28;01mif\u001b[39;00m trace_granularity \u001b[38;5;241m<\u001b[39m granularity:\n\u001b[1;32m--> 127\u001b[0m     \u001b[38;5;28;01mreturn\u001b[39;00m f(\u001b[38;5;241m*\u001b[39margs, \u001b[38;5;241m*\u001b[39m\u001b[38;5;241m*\u001b[39mkwargs)\n\u001b[0;32m    128\u001b[0m \u001b[38;5;28;01mif\u001b[39;00m \u001b[38;5;129;01mnot\u001b[39;00m tracer:\n\u001b[0;32m    129\u001b[0m     \u001b[38;5;28;01mreturn\u001b[39;00m f(\u001b[38;5;241m*\u001b[39margs, \u001b[38;5;241m*\u001b[39m\u001b[38;5;241m*\u001b[39mkwargs)\n",
      "File \u001b[1;32mc:\\Users\\acer\\miniconda3\\envs\\zappy\\lib\\site-packages\\chromadb\\api\\fastapi.py:369\u001b[0m, in \u001b[0;36mFastAPI.delete_collection\u001b[1;34m(self, name, tenant, database)\u001b[0m\n\u001b[0;32m    364\u001b[0m \u001b[38;5;250m\u001b[39m\u001b[38;5;124;03m\"\"\"Deletes a collection\"\"\"\u001b[39;00m\n\u001b[0;32m    365\u001b[0m resp \u001b[38;5;241m=\u001b[39m \u001b[38;5;28mself\u001b[39m\u001b[38;5;241m.\u001b[39m_session\u001b[38;5;241m.\u001b[39mdelete(\n\u001b[0;32m    366\u001b[0m     \u001b[38;5;28mself\u001b[39m\u001b[38;5;241m.\u001b[39m_api_url \u001b[38;5;241m+\u001b[39m \u001b[38;5;124m\"\u001b[39m\u001b[38;5;124m/collections/\u001b[39m\u001b[38;5;124m\"\u001b[39m \u001b[38;5;241m+\u001b[39m name,\n\u001b[0;32m    367\u001b[0m     params\u001b[38;5;241m=\u001b[39m{\u001b[38;5;124m\"\u001b[39m\u001b[38;5;124mtenant\u001b[39m\u001b[38;5;124m\"\u001b[39m: tenant, \u001b[38;5;124m\"\u001b[39m\u001b[38;5;124mdatabase\u001b[39m\u001b[38;5;124m\"\u001b[39m: database},\n\u001b[0;32m    368\u001b[0m )\n\u001b[1;32m--> 369\u001b[0m \u001b[43mraise_chroma_error\u001b[49m\u001b[43m(\u001b[49m\u001b[43mresp\u001b[49m\u001b[43m)\u001b[49m\n",
      "File \u001b[1;32mc:\\Users\\acer\\miniconda3\\envs\\zappy\\lib\\site-packages\\chromadb\\api\\fastapi.py:652\u001b[0m, in \u001b[0;36mraise_chroma_error\u001b[1;34m(resp)\u001b[0m\n\u001b[0;32m    650\u001b[0m     resp\u001b[38;5;241m.\u001b[39mraise_for_status()\n\u001b[0;32m    651\u001b[0m \u001b[38;5;28;01mexcept\u001b[39;00m requests\u001b[38;5;241m.\u001b[39mHTTPError:\n\u001b[1;32m--> 652\u001b[0m     \u001b[38;5;28;01mraise\u001b[39;00m (\u001b[38;5;167;01mException\u001b[39;00m(resp\u001b[38;5;241m.\u001b[39mtext))\n",
      "\u001b[1;31mException\u001b[0m: {\"error\":\"ValueError('Collection whatsappnew does not exist.')\"}"
     ]
    }
   ],
   "source": [
    "chroma_client.delete_collection(\"whatsappnew\")"
   ]
  },
  {
   "cell_type": "code",
   "execution_count": 11,
   "metadata": {},
   "outputs": [
    {
     "data": {
      "text/plain": [
       "[Collection(name=whatsapp), Collection(name=bot)]"
      ]
     },
     "execution_count": 11,
     "metadata": {},
     "output_type": "execute_result"
    }
   ],
   "source": [
    "chroma_client.list_collections()"
   ]
  },
  {
   "cell_type": "code",
   "execution_count": 13,
   "metadata": {},
   "outputs": [],
   "source": [
    "collection = chroma_client.get_collection(name=\"whatsapp\")"
   ]
  },
  {
   "cell_type": "code",
   "execution_count": 14,
   "metadata": {},
   "outputs": [
    {
     "data": {
      "text/plain": [
       "1"
      ]
     },
     "execution_count": 14,
     "metadata": {},
     "output_type": "execute_result"
    }
   ],
   "source": [
    "collection.count()"
   ]
  },
  {
   "cell_type": "code",
   "execution_count": 15,
   "metadata": {},
   "outputs": [
    {
     "data": {
      "text/plain": [
       "{'ids': ['1'],\n",
       " 'embeddings': [[-0.05166195333003998,\n",
       "   -0.1263730376958847,\n",
       "   -0.01722763478755951,\n",
       "   -0.23875747621059418,\n",
       "   0.193697988986969,\n",
       "   0.034656185656785965,\n",
       "   0.25450244545936584,\n",
       "   0.05561080574989319,\n",
       "   0.005254101008176804,\n",
       "   0.2757863998413086,\n",
       "   -0.016979383304715157,\n",
       "   0.05997149646282196,\n",
       "   0.08879131078720093,\n",
       "   0.09548243135213852,\n",
       "   0.2015741467475891,\n",
       "   0.007766691967844963,\n",
       "   0.056731536984443665,\n",
       "   -0.21488693356513977,\n",
       "   -0.12418613582849503,\n",
       "   0.012278859503567219,\n",
       "   -0.013434664346277714,\n",
       "   -0.014247418381273746,\n",
       "   -0.010483130812644958,\n",
       "   -0.1278628557920456,\n",
       "   -0.08508609980344772,\n",
       "   -0.06472435593605042,\n",
       "   0.058843016624450684,\n",
       "   0.059498630464076996,\n",
       "   -0.02873319201171398,\n",
       "   -0.0350230447947979,\n",
       "   0.23460014164447784,\n",
       "   0.05201917886734009,\n",
       "   0.2719438970088959,\n",
       "   0.09439072012901306,\n",
       "   0.00957559421658516,\n",
       "   -0.04441637545824051,\n",
       "   0.07823091000318527,\n",
       "   -0.09482244402170181,\n",
       "   0.0007814238779246807,\n",
       "   0.27325522899627686,\n",
       "   -0.04896373301744461,\n",
       "   0.0988563746213913,\n",
       "   0.2458479404449463,\n",
       "   -0.09812089800834656,\n",
       "   0.0556313693523407,\n",
       "   -0.10188435018062592,\n",
       "   0.051501307636499405,\n",
       "   0.2347685992717743,\n",
       "   -0.27711886167526245,\n",
       "   -0.03210396319627762,\n",
       "   -0.4125708043575287,\n",
       "   -0.24848586320877075,\n",
       "   -0.023646261543035507,\n",
       "   0.09226103127002716,\n",
       "   0.361979603767395,\n",
       "   0.03557305037975311,\n",
       "   -0.03776850178837776,\n",
       "   -0.07669264078140259,\n",
       "   -0.12566906213760376,\n",
       "   -0.07254398614168167,\n",
       "   0.03318057581782341,\n",
       "   0.0808325782418251,\n",
       "   -0.2323978692293167,\n",
       "   -0.2634814977645874,\n",
       "   0.18409813940525055,\n",
       "   -0.3292804956436157,\n",
       "   -0.45601680874824524,\n",
       "   -0.08635672926902771,\n",
       "   -0.060851387679576874,\n",
       "   -0.02545055001974106,\n",
       "   0.09768283367156982,\n",
       "   -0.2851717174053192,\n",
       "   -0.15552525222301483,\n",
       "   0.02018444426357746,\n",
       "   -0.1137242540717125,\n",
       "   0.05763430520892143,\n",
       "   -0.02534315176308155,\n",
       "   -0.05382292717695236,\n",
       "   0.05209305137395859,\n",
       "   -0.29391223192214966,\n",
       "   0.24835313856601715,\n",
       "   -0.033510394394397736,\n",
       "   0.010505159385502338,\n",
       "   0.04333416000008583,\n",
       "   0.15298888087272644,\n",
       "   -0.11960109323263168,\n",
       "   0.19053269922733307,\n",
       "   -0.056401900947093964,\n",
       "   0.17813248932361603,\n",
       "   0.1819455623626709,\n",
       "   0.05039162561297417,\n",
       "   0.23929235339164734,\n",
       "   0.2642245590686798,\n",
       "   -0.0978517010807991,\n",
       "   -0.04468882828950882,\n",
       "   -0.1350569725036621,\n",
       "   0.41483232378959656,\n",
       "   -0.1577053964138031,\n",
       "   -0.10563085228204727,\n",
       "   0.12226341664791107,\n",
       "   0.33807122707366943,\n",
       "   0.22108188271522522,\n",
       "   0.3129497170448303,\n",
       "   -0.09601953625679016,\n",
       "   0.087373286485672,\n",
       "   -0.01346808671951294,\n",
       "   -0.37202221155166626,\n",
       "   0.1486155390739441,\n",
       "   -0.04580465331673622,\n",
       "   0.004037711303681135,\n",
       "   -0.051674626767635345,\n",
       "   0.12308362126350403,\n",
       "   -0.19230946898460388,\n",
       "   -0.23238223791122437,\n",
       "   -0.02123267576098442,\n",
       "   -0.39084315299987793,\n",
       "   -0.22377300262451172,\n",
       "   -0.09219180047512054,\n",
       "   0.0020547350868582726,\n",
       "   -0.04745447263121605,\n",
       "   0.023688605055212975,\n",
       "   0.13173186779022217,\n",
       "   0.05608651041984558,\n",
       "   0.011852480471134186,\n",
       "   -0.14617863297462463,\n",
       "   -0.13538944721221924,\n",
       "   -0.07941532880067825,\n",
       "   -0.0005388204008340836,\n",
       "   -0.00834347028285265,\n",
       "   0.28568416833877563,\n",
       "   0.10923832654953003,\n",
       "   -0.07525224983692169,\n",
       "   -0.08787544816732407,\n",
       "   -0.1871805489063263,\n",
       "   0.1761052906513214,\n",
       "   0.118503637611866,\n",
       "   0.14793893694877625,\n",
       "   0.13629819452762604,\n",
       "   -0.07590170949697495,\n",
       "   -0.0036552634555846453,\n",
       "   0.172305628657341,\n",
       "   -0.24017828702926636,\n",
       "   -0.034399017691612244,\n",
       "   0.16012005507946014,\n",
       "   -0.017859360203146935,\n",
       "   0.021721402183175087,\n",
       "   -0.006948859430849552,\n",
       "   0.014449195936322212,\n",
       "   -0.1341416984796524,\n",
       "   -0.19045594334602356,\n",
       "   -0.312696635723114,\n",
       "   0.36385244131088257,\n",
       "   -0.013029812835156918,\n",
       "   0.1330113410949707,\n",
       "   0.2212333381175995,\n",
       "   0.05479194223880768,\n",
       "   0.2160750925540924,\n",
       "   0.08965587615966797,\n",
       "   0.2353840172290802,\n",
       "   0.23512624204158783,\n",
       "   0.05740351602435112,\n",
       "   -0.004901032894849777,\n",
       "   -0.030972789973020554,\n",
       "   -0.023786526173353195,\n",
       "   0.15096813440322876,\n",
       "   -0.191801980137825,\n",
       "   -0.12429311126470566,\n",
       "   -0.0028710924088954926,\n",
       "   -0.10696838796138763,\n",
       "   0.03624432906508446,\n",
       "   -0.14022523164749146,\n",
       "   0.027534861117601395,\n",
       "   -0.12824253737926483,\n",
       "   -0.09228502959012985,\n",
       "   -0.11547770351171494,\n",
       "   0.05455911532044411,\n",
       "   0.0877949446439743,\n",
       "   0.26780372858047485,\n",
       "   -0.1938072144985199,\n",
       "   -0.06910233199596405,\n",
       "   -0.12225048989057541,\n",
       "   0.2935978174209595,\n",
       "   -0.0444474034011364,\n",
       "   -0.2049027383327484,\n",
       "   0.01049351692199707,\n",
       "   -0.21514905989170074,\n",
       "   0.3153177797794342,\n",
       "   0.016787372529506683,\n",
       "   -0.157623752951622,\n",
       "   -0.16565456986427307,\n",
       "   -0.22355064749717712,\n",
       "   -0.2366354614496231,\n",
       "   0.15609942376613617,\n",
       "   -0.06384125351905823,\n",
       "   0.11765003949403763,\n",
       "   -0.06618303805589676,\n",
       "   -0.14593914151191711,\n",
       "   -0.1382581740617752,\n",
       "   0.28128525614738464,\n",
       "   -0.19691991806030273,\n",
       "   0.15606637299060822,\n",
       "   0.08828610181808472,\n",
       "   -0.025548970326781273,\n",
       "   0.11975210160017014,\n",
       "   -0.022712290287017822,\n",
       "   0.15896721184253693,\n",
       "   -0.1887541115283966,\n",
       "   0.2186361849308014,\n",
       "   -0.10620201379060745,\n",
       "   0.14819937944412231,\n",
       "   -0.3155844211578369,\n",
       "   0.05643640458583832,\n",
       "   -0.038399551063776016,\n",
       "   -0.05124408006668091,\n",
       "   -1.1680589523166418e-05,\n",
       "   -0.10437363386154175,\n",
       "   -0.17953026294708252,\n",
       "   0.24323995411396027,\n",
       "   -0.06210044398903847,\n",
       "   -0.23902279138565063,\n",
       "   -0.03803792595863342,\n",
       "   0.116034135222435,\n",
       "   -0.10201194882392883,\n",
       "   -0.006379285827279091,\n",
       "   -0.010155081748962402,\n",
       "   0.19430311024188995,\n",
       "   -0.2432832419872284,\n",
       "   0.173151433467865,\n",
       "   0.01127786934375763,\n",
       "   -0.10322590172290802,\n",
       "   0.23408029973506927,\n",
       "   -0.11414088308811188,\n",
       "   -0.06456860154867172,\n",
       "   -0.12784351408481598,\n",
       "   -0.04785364866256714,\n",
       "   0.07180456072092056,\n",
       "   0.3087538182735443,\n",
       "   -0.05535629391670227,\n",
       "   -0.06444765627384186,\n",
       "   0.23898659646511078,\n",
       "   -0.3179803788661957,\n",
       "   0.05044951289892197,\n",
       "   0.17698536813259125,\n",
       "   0.1888032704591751,\n",
       "   -0.025314021855592728,\n",
       "   -0.02814652770757675,\n",
       "   -0.13093915581703186,\n",
       "   -0.04928883910179138,\n",
       "   -0.08346763253211975,\n",
       "   -0.07627212256193161,\n",
       "   0.05502631142735481,\n",
       "   -0.2914455831050873,\n",
       "   0.09411340951919556,\n",
       "   0.060359664261341095,\n",
       "   0.03999297320842743,\n",
       "   -0.16412457823753357,\n",
       "   0.01616392657160759,\n",
       "   0.23258256912231445,\n",
       "   0.08624645322561264,\n",
       "   0.010205717757344246,\n",
       "   0.07973531633615494,\n",
       "   -0.04421032965183258,\n",
       "   -0.07488572597503662,\n",
       "   0.05469963327050209,\n",
       "   -0.08070249855518341,\n",
       "   0.023027939721941948,\n",
       "   -0.09211857616901398,\n",
       "   -0.08328154683113098,\n",
       "   -0.0641869455575943,\n",
       "   -0.23421235382556915,\n",
       "   -0.13189971446990967,\n",
       "   0.027195699512958527,\n",
       "   0.3880697786808014,\n",
       "   -0.2507533133029938,\n",
       "   0.08357010036706924,\n",
       "   0.07294396311044693,\n",
       "   0.015588502399623394,\n",
       "   -0.1278676688671112,\n",
       "   -0.17537063360214233,\n",
       "   -0.01647820882499218,\n",
       "   0.17615118622779846,\n",
       "   0.07615630328655243,\n",
       "   -0.2084752321243286,\n",
       "   -0.1868710219860077,\n",
       "   -0.11873116344213486,\n",
       "   -0.31816765666007996,\n",
       "   0.42723190784454346,\n",
       "   0.06579922139644623,\n",
       "   -0.0388704277575016,\n",
       "   -0.02216610684990883,\n",
       "   0.1180960163474083,\n",
       "   -0.00625956617295742,\n",
       "   0.020800039172172546,\n",
       "   -0.21324676275253296,\n",
       "   0.050135061144828796,\n",
       "   -0.25058650970458984,\n",
       "   0.1133439689874649,\n",
       "   -0.127834290266037,\n",
       "   -0.17684845626354218,\n",
       "   0.07999732345342636,\n",
       "   -0.08115684241056442,\n",
       "   0.24932526051998138,\n",
       "   0.14079886674880981,\n",
       "   0.25891387462615967,\n",
       "   0.13940368592739105,\n",
       "   0.016393885016441345,\n",
       "   -0.07945840805768967,\n",
       "   -0.08633501082658768,\n",
       "   0.06709589064121246,\n",
       "   0.17721541225910187,\n",
       "   0.06958970427513123,\n",
       "   -0.04608634486794472,\n",
       "   0.12079332023859024,\n",
       "   -0.05255795270204544,\n",
       "   0.03703866899013519,\n",
       "   -0.05799313634634018,\n",
       "   0.1939610093832016,\n",
       "   0.09507797658443451,\n",
       "   -0.03759967163205147,\n",
       "   0.09799931943416595,\n",
       "   0.26481345295906067,\n",
       "   0.038870468735694885,\n",
       "   0.34397488832473755,\n",
       "   -0.05103568360209465,\n",
       "   0.07634033262729645,\n",
       "   0.035562653094530106,\n",
       "   -0.03084300085902214,\n",
       "   0.2615898549556732,\n",
       "   -0.009336988441646099,\n",
       "   -0.07412141561508179,\n",
       "   -0.0950097143650055,\n",
       "   0.24713274836540222,\n",
       "   -0.17586827278137207,\n",
       "   0.22236494719982147,\n",
       "   -0.04074902832508087,\n",
       "   0.10726599395275116,\n",
       "   -0.09863950312137604,\n",
       "   0.15474002063274384,\n",
       "   0.09291748702526093,\n",
       "   -0.24107837677001953,\n",
       "   -0.07642810046672821,\n",
       "   -0.15187494456768036,\n",
       "   0.04926919564604759,\n",
       "   -0.20316824316978455,\n",
       "   -0.043916523456573486,\n",
       "   0.10963603109121323,\n",
       "   0.09138534963130951,\n",
       "   -0.06862830370664597,\n",
       "   0.2832348644733429,\n",
       "   0.11518081277608871,\n",
       "   -0.2268221378326416,\n",
       "   0.08431178331375122,\n",
       "   -0.10391396284103394,\n",
       "   0.007623352110385895,\n",
       "   -0.12794391810894012,\n",
       "   -0.08919365704059601,\n",
       "   -0.080452561378479,\n",
       "   0.09012286365032196,\n",
       "   -0.23982387781143188,\n",
       "   -0.18193954229354858,\n",
       "   0.01957315392792225,\n",
       "   -0.03236902505159378,\n",
       "   -0.08425309509038925,\n",
       "   0.06473745405673981,\n",
       "   0.17050457000732422,\n",
       "   -0.07899785786867142,\n",
       "   0.2751995027065277,\n",
       "   -0.037366680800914764,\n",
       "   -0.04395298287272453,\n",
       "   0.08670678734779358,\n",
       "   -0.0674360990524292,\n",
       "   0.15881355106830597,\n",
       "   0.13680590689182281,\n",
       "   0.19344845414161682,\n",
       "   -0.10815639793872833,\n",
       "   0.028092574328184128,\n",
       "   -0.059335481375455856,\n",
       "   -0.10003388673067093,\n",
       "   0.06743822991847992,\n",
       "   -0.08440541476011276,\n",
       "   -0.2658366560935974,\n",
       "   0.13614466786384583,\n",
       "   -0.0481528602540493,\n",
       "   -0.08352981507778168]],\n",
       " 'metadatas': [{'source': 'Zappy-AI.pdf'}],\n",
       " 'documents': [\" \\n \\nBusiness Information \\n \\nBusiness Name: Zappy \\nType/Industry: SaaS, IT services \\nWebsite: www.heyzappy.com \\nEmail:info@heyzappy.com \\nPhone Number: +94768708702 \\nWhatsApp Number: +94768708702 \\nLocation:Sri Lanka office - Colombo two \\nMalaysia Office - Bangsar, Kuala Lumpur \\nBrief Description: Zappy, a venture backed homegrown business communication platform \\nbased in Malaysia and Sri Lanka that offers AI salesperson for your business. Zappy is the \\nSalesperson you’ve been looking for, Reply across socials, send emails, collect feedback, make \\nphone calls and schedule meetings, even while you’re asleep ;) \\n \\n \\nChatbot Configuration \\n \\nDesired Chatbot Name and Identity. Act as Zappy, the AI agent replying to customers \\nwho have inquired about Zappy on social media.  \\n \\nDesired Chatbot tone: professional and friendly, a natural, day-to-day conversational style \\nthat makes the clients feel at ease and well-assisted. \\n \\n \\nLanguage(s) the Chatbot must Support: English \\n \\n \\nFrequently Asked Questions (FAQs):  \\n \\nWrite a list of common questions asked by customers along with their corresponding \\nanswers. This will help the chatbot provide accurate responses. \\nFAQ1 -Are you trying to replace human salespeople? \\nNo, we are helping your sales team focus on what matters the most, networking while Zappy \\ndoes the boring monotonous work. \\n \\nFAQ 2- How much does this cost? \\nThe pricing structure is a simple pay for what I do structure, you only need to pay for the tasks \\ndone. \\n \\nMy pricing packages start from Rupees 16,750 per month. To get a custom pricing let me know \\nyour requirements. \\n \\nFAQ 3- Who is behind this Zappy AI team? \\nWe are a venture backed startup founded and developed by a bunch of young Sri Lankan \\nentrepreneurs. With offices located in Sri Lanka and Malaysia. \\n \\nFAQ 4-Is my data safe? \\nCustomer data and privacy is one of the biggest concerns, we use ISO/ECshs certified servers \\nwith the option to opt in for HIPPA thingy on call ai \\n \\nFAQ 5: Can I get a custom pricing for my requirement? Yes. It’s best if you can book a call with \\nour team via Book a call so that we can understand your requirements better. However do note \\nthat only a select few companies will get access to Zappy and others will be put into a waitlist. \\n \\n \\n \\nFAQ 3: Can I schedule a demo or meeting with the team? - Yes, kindly book a time via Book a \\ncall  \\n... \\n \\nProducts and Services:  \\n \\n-Product Catalog link:  \\n \\n-Provide detailed information about your products or services, including key features, \\npricing, and any other relevant details. This will help the chatbot provide accurate \\ninformation. If you have a long list of products or services (more than 5), simply state the \\ngeneral categories and include a link to see your catalog: \\n \\nReply across social media: \\nReply to comments, mentions, DMs and WhatsApp messages across WhatsApp, Instagram, \\nFacebook messenger \\n \\nEmail & SMS conversations: \\nNot just one way spam, but a real conversation,  \\n \\nPhone calls \\nCall your prospects and book appointments. all while you’re teams still on vacation  -  \\n \\nDaily reporting \\na daily update on what’s done and how things went and analytics \\n \\n \\nOther key features \\n● Trained to fit your company  \\n● Working 24/7/365 \\n● Only pay the work done  \\n● Multilingual  \\n \\n \\nPurchase process:  \\n \\n-Provide detailed information about your purchase or sign-up process. This might \\ninclude: Payment methods, shipping information, checkout links and any other relevant \\ndetails. \\nCurrently we have an early bird offer where we select a few companies and provide them with \\nZappy AI services. To qualify for the offer we schedule a demo with the company to understand \\ntheir customer base, how they engage with their customers and based on that we will give the \\ncustom pricing. Kindly book a call via this link Book a call  \\n \\n \\nEscalation Process:  \\n \\nSpecify the steps or criteria for when the chatbot should escalate a customer's inquiry or issue \\nto a human representative. \\nTo talk to a human representative kindly contact us via +94768708702 or email via \\ninfo@heyzappy.com,  \\n \\n \\n… \\n \\nAdditional details and instructions: \\nTo get access for our early bird offer book a call with us via \\nhttps://meetings.hubspot.com/shay-anthony  \\n \\n\"],\n",
       " 'data': None,\n",
       " 'uris': None}"
      ]
     },
     "execution_count": 15,
     "metadata": {},
     "output_type": "execute_result"
    }
   ],
   "source": [
    "collection.peek()"
   ]
  },
  {
   "cell_type": "code",
   "execution_count": 16,
   "metadata": {},
   "outputs": [
    {
     "data": {
      "text/plain": [
       "{'ids': ['1'],\n",
       " 'embeddings': None,\n",
       " 'metadatas': [{'source': 'Zappy-AI.pdf'}],\n",
       " 'documents': [\" \\n \\nBusiness Information \\n \\nBusiness Name: Zappy \\nType/Industry: SaaS, IT services \\nWebsite: www.heyzappy.com \\nEmail:info@heyzappy.com \\nPhone Number: +94768708702 \\nWhatsApp Number: +94768708702 \\nLocation:Sri Lanka office - Colombo two \\nMalaysia Office - Bangsar, Kuala Lumpur \\nBrief Description: Zappy, a venture backed homegrown business communication platform \\nbased in Malaysia and Sri Lanka that offers AI salesperson for your business. Zappy is the \\nSalesperson you’ve been looking for, Reply across socials, send emails, collect feedback, make \\nphone calls and schedule meetings, even while you’re asleep ;) \\n \\n \\nChatbot Configuration \\n \\nDesired Chatbot Name and Identity. Act as Zappy, the AI agent replying to customers \\nwho have inquired about Zappy on social media.  \\n \\nDesired Chatbot tone: professional and friendly, a natural, day-to-day conversational style \\nthat makes the clients feel at ease and well-assisted. \\n \\n \\nLanguage(s) the Chatbot must Support: English \\n \\n \\nFrequently Asked Questions (FAQs):  \\n \\nWrite a list of common questions asked by customers along with their corresponding \\nanswers. This will help the chatbot provide accurate responses. \\nFAQ1 -Are you trying to replace human salespeople? \\nNo, we are helping your sales team focus on what matters the most, networking while Zappy \\ndoes the boring monotonous work. \\n \\nFAQ 2- How much does this cost? \\nThe pricing structure is a simple pay for what I do structure, you only need to pay for the tasks \\ndone. \\n \\nMy pricing packages start from Rupees 16,750 per month. To get a custom pricing let me know \\nyour requirements. \\n \\nFAQ 3- Who is behind this Zappy AI team? \\nWe are a venture backed startup founded and developed by a bunch of young Sri Lankan \\nentrepreneurs. With offices located in Sri Lanka and Malaysia. \\n \\nFAQ 4-Is my data safe? \\nCustomer data and privacy is one of the biggest concerns, we use ISO/ECshs certified servers \\nwith the option to opt in for HIPPA thingy on call ai \\n \\nFAQ 5: Can I get a custom pricing for my requirement? Yes. It’s best if you can book a call with \\nour team via Book a call so that we can understand your requirements better. However do note \\nthat only a select few companies will get access to Zappy and others will be put into a waitlist. \\n \\n \\n \\nFAQ 3: Can I schedule a demo or meeting with the team? - Yes, kindly book a time via Book a \\ncall  \\n... \\n \\nProducts and Services:  \\n \\n-Product Catalog link:  \\n \\n-Provide detailed information about your products or services, including key features, \\npricing, and any other relevant details. This will help the chatbot provide accurate \\ninformation. If you have a long list of products or services (more than 5), simply state the \\ngeneral categories and include a link to see your catalog: \\n \\nReply across social media: \\nReply to comments, mentions, DMs and WhatsApp messages across WhatsApp, Instagram, \\nFacebook messenger \\n \\nEmail & SMS conversations: \\nNot just one way spam, but a real conversation,  \\n \\nPhone calls \\nCall your prospects and book appointments. all while you’re teams still on vacation  -  \\n \\nDaily reporting \\na daily update on what’s done and how things went and analytics \\n \\n \\nOther key features \\n● Trained to fit your company  \\n● Working 24/7/365 \\n● Only pay the work done  \\n● Multilingual  \\n \\n \\nPurchase process:  \\n \\n-Provide detailed information about your purchase or sign-up process. This might \\ninclude: Payment methods, shipping information, checkout links and any other relevant \\ndetails. \\nCurrently we have an early bird offer where we select a few companies and provide them with \\nZappy AI services. To qualify for the offer we schedule a demo with the company to understand \\ntheir customer base, how they engage with their customers and based on that we will give the \\ncustom pricing. Kindly book a call via this link Book a call  \\n \\n \\nEscalation Process:  \\n \\nSpecify the steps or criteria for when the chatbot should escalate a customer's inquiry or issue \\nto a human representative. \\nTo talk to a human representative kindly contact us via +94768708702 or email via \\ninfo@heyzappy.com,  \\n \\n \\n… \\n \\nAdditional details and instructions: \\nTo get access for our early bird offer book a call with us via \\nhttps://meetings.hubspot.com/shay-anthony  \\n \\n\"],\n",
       " 'data': None,\n",
       " 'uris': None}"
      ]
     },
     "execution_count": 16,
     "metadata": {},
     "output_type": "execute_result"
    }
   ],
   "source": [
    "collection.get()"
   ]
  },
  {
   "cell_type": "code",
   "execution_count": 24,
   "metadata": {},
   "outputs": [
    {
     "name": "stdout",
     "output_type": "stream",
     "text": [
      "there are {'ids': ['1'], 'embeddings': None, 'metadatas': [{'source': 'Zappy-AI.pdf'}], 'documents': [\" \\n \\nBusiness Information \\n \\nBusiness Name: Zappy \\nType/Industry: SaaS, IT services \\nWebsite: www.heyzappy.com \\nEmail:info@heyzappy.com \\nPhone Number: +94768708702 \\nWhatsApp Number: +94768708702 \\nLocation:Sri Lanka office - Colombo two \\nMalaysia Office - Bangsar, Kuala Lumpur \\nBrief Description: Zappy, a venture backed homegrown business communication platform \\nbased in Malaysia and Sri Lanka that offers AI salesperson for your business. Zappy is the \\nSalesperson you’ve been looking for, Reply across socials, send emails, collect feedback, make \\nphone calls and schedule meetings, even while you’re asleep ;) \\n \\n \\nChatbot Configuration \\n \\nDesired Chatbot Name and Identity. Act as Zappy, the AI agent replying to customers \\nwho have inquired about Zappy on social media.  \\n \\nDesired Chatbot tone: professional and friendly, a natural, day-to-day conversational style \\nthat makes the clients feel at ease and well-assisted. \\n \\n \\nLanguage(s) the Chatbot must Support: English \\n \\n \\nFrequently Asked Questions (FAQs):  \\n \\nWrite a list of common questions asked by customers along with their corresponding \\nanswers. This will help the chatbot provide accurate responses. \\nFAQ1 -Are you trying to replace human salespeople? \\nNo, we are helping your sales team focus on what matters the most, networking while Zappy \\ndoes the boring monotonous work. \\n \\nFAQ 2- How much does this cost? \\nThe pricing structure is a simple pay for what I do structure, you only need to pay for the tasks \\ndone. \\n \\nMy pricing packages start from Rupees 16,750 per month. To get a custom pricing let me know \\nyour requirements. \\n \\nFAQ 3- Who is behind this Zappy AI team? \\nWe are a venture backed startup founded and developed by a bunch of young Sri Lankan \\nentrepreneurs. With offices located in Sri Lanka and Malaysia. \\n \\nFAQ 4-Is my data safe? \\nCustomer data and privacy is one of the biggest concerns, we use ISO/ECshs certified servers \\nwith the option to opt in for HIPPA thingy on call ai \\n \\nFAQ 5: Can I get a custom pricing for my requirement? Yes. It’s best if you can book a call with \\nour team via Book a call so that we can understand your requirements better. However do note \\nthat only a select few companies will get access to Zappy and others will be put into a waitlist. \\n \\n \\n \\nFAQ 3: Can I schedule a demo or meeting with the team? - Yes, kindly book a time via Book a \\ncall  \\n... \\n \\nProducts and Services:  \\n \\n-Product Catalog link:  \\n \\n-Provide detailed information about your products or services, including key features, \\npricing, and any other relevant details. This will help the chatbot provide accurate \\ninformation. If you have a long list of products or services (more than 5), simply state the \\ngeneral categories and include a link to see your catalog: \\n \\nReply across social media: \\nReply to comments, mentions, DMs and WhatsApp messages across WhatsApp, Instagram, \\nFacebook messenger \\n \\nEmail & SMS conversations: \\nNot just one way spam, but a real conversation,  \\n \\nPhone calls \\nCall your prospects and book appointments. all while you’re teams still on vacation  -  \\n \\nDaily reporting \\na daily update on what’s done and how things went and analytics \\n \\n \\nOther key features \\n● Trained to fit your company  \\n● Working 24/7/365 \\n● Only pay the work done  \\n● Multilingual  \\n \\n \\nPurchase process:  \\n \\n-Provide detailed information about your purchase or sign-up process. This might \\ninclude: Payment methods, shipping information, checkout links and any other relevant \\ndetails. \\nCurrently we have an early bird offer where we select a few companies and provide them with \\nZappy AI services. To qualify for the offer we schedule a demo with the company to understand \\ntheir customer base, how they engage with their customers and based on that we will give the \\ncustom pricing. Kindly book a call via this link Book a call  \\n \\n \\nEscalation Process:  \\n \\nSpecify the steps or criteria for when the chatbot should escalate a customer's inquiry or issue \\nto a human representative. \\nTo talk to a human representative kindly contact us via +94768708702 or email via \\ninfo@heyzappy.com,  \\n \\n \\n… \\n \\nAdditional details and instructions: \\nTo get access for our early bird offer book a call with us via \\nhttps://meetings.hubspot.com/shay-anthony  \\n \\n\"], 'data': None, 'uris': None} in the collection\n"
     ]
    }
   ],
   "source": [
    "from langchain.embeddings.sentence_transformer import SentenceTransformerEmbeddings\n",
    "from langchain.vectorstores import Chroma\n",
    "\n",
    "embedding_function = SentenceTransformerEmbeddings(\n",
    "    model_name=\"all-MiniLM-L6-v2\"\n",
    ")\n",
    "\n",
    "chroma_client = chromadb.HttpClient(host=CHROMA_HOST, port=CHROMA_PORT)\n",
    "\n",
    "vector_db = Chroma(\n",
    "    client=chroma_client,\n",
    "    collection_name=\"bot\",\n",
    "    embedding_function=embedding_function\n",
    ")\n",
    "\n",
    "print(\"there are\", vector_db._collection.get(), \"in the collection\")"
   ]
  },
  {
   "cell_type": "code",
   "execution_count": null,
   "metadata": {},
   "outputs": [],
   "source": []
  }
 ],
 "metadata": {
  "kernelspec": {
   "display_name": "zappy",
   "language": "python",
   "name": "python3"
  },
  "language_info": {
   "codemirror_mode": {
    "name": "ipython",
    "version": 3
   },
   "file_extension": ".py",
   "mimetype": "text/x-python",
   "name": "python",
   "nbconvert_exporter": "python",
   "pygments_lexer": "ipython3",
   "version": "3.10.13"
  }
 },
 "nbformat": 4,
 "nbformat_minor": 2
}
